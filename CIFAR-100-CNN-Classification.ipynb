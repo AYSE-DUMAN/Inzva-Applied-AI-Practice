{
  "nbformat": 4,
  "nbformat_minor": 0,
  "metadata": {
    "accelerator": "GPU",
    "colab": {
      "name": "CIFAR-100 Homework.ipynb adlı not defterinin kopyası",
      "provenance": [],
      "collapsed_sections": []
    },
    "kernelspec": {
      "display_name": "Python 3",
      "language": "python",
      "name": "python3"
    },
    "language_info": {
      "codemirror_mode": {
        "name": "ipython",
        "version": 3
      },
      "file_extension": ".py",
      "mimetype": "text/x-python",
      "name": "python",
      "nbconvert_exporter": "python",
      "pygments_lexer": "ipython3",
      "version": "3.8.5"
    },
    "widgets": {
      "application/vnd.jupyter.widget-state+json": {
        "c61e027e63e9410a8910068fe4a4a6e5": {
          "model_module": "@jupyter-widgets/controls",
          "model_name": "HBoxModel",
          "state": {
            "_view_name": "HBoxView",
            "_dom_classes": [],
            "_model_name": "HBoxModel",
            "_view_module": "@jupyter-widgets/controls",
            "_model_module_version": "1.5.0",
            "_view_count": null,
            "_view_module_version": "1.5.0",
            "box_style": "",
            "layout": "IPY_MODEL_10728ef0aad04209b217ffefe6d6bc69",
            "_model_module": "@jupyter-widgets/controls",
            "children": [
              "IPY_MODEL_892cd35238524de6a584aa50968afd36",
              "IPY_MODEL_c25ff97a23a749288d7dd019ba5b1ea5"
            ]
          }
        },
        "10728ef0aad04209b217ffefe6d6bc69": {
          "model_module": "@jupyter-widgets/base",
          "model_name": "LayoutModel",
          "state": {
            "_view_name": "LayoutView",
            "grid_template_rows": null,
            "right": null,
            "justify_content": null,
            "_view_module": "@jupyter-widgets/base",
            "overflow": null,
            "_model_module_version": "1.2.0",
            "_view_count": null,
            "flex_flow": null,
            "width": null,
            "min_width": null,
            "border": null,
            "align_items": null,
            "bottom": null,
            "_model_module": "@jupyter-widgets/base",
            "top": null,
            "grid_column": null,
            "overflow_y": null,
            "overflow_x": null,
            "grid_auto_flow": null,
            "grid_area": null,
            "grid_template_columns": null,
            "flex": null,
            "_model_name": "LayoutModel",
            "justify_items": null,
            "grid_row": null,
            "max_height": null,
            "align_content": null,
            "visibility": null,
            "align_self": null,
            "height": null,
            "min_height": null,
            "padding": null,
            "grid_auto_rows": null,
            "grid_gap": null,
            "max_width": null,
            "order": null,
            "_view_module_version": "1.2.0",
            "grid_template_areas": null,
            "object_position": null,
            "object_fit": null,
            "grid_auto_columns": null,
            "margin": null,
            "display": null,
            "left": null
          }
        },
        "892cd35238524de6a584aa50968afd36": {
          "model_module": "@jupyter-widgets/controls",
          "model_name": "FloatProgressModel",
          "state": {
            "_view_name": "ProgressView",
            "style": "IPY_MODEL_835bc96bed0f4a0d8a337304f05d00c5",
            "_dom_classes": [],
            "description": "",
            "_model_name": "FloatProgressModel",
            "bar_style": "info",
            "max": 1,
            "_view_module": "@jupyter-widgets/controls",
            "_model_module_version": "1.5.0",
            "value": 1,
            "_view_count": null,
            "_view_module_version": "1.5.0",
            "orientation": "horizontal",
            "min": 0,
            "description_tooltip": null,
            "_model_module": "@jupyter-widgets/controls",
            "layout": "IPY_MODEL_f58fea370ecf4f2899e88d634dafe949"
          }
        },
        "c25ff97a23a749288d7dd019ba5b1ea5": {
          "model_module": "@jupyter-widgets/controls",
          "model_name": "HTMLModel",
          "state": {
            "_view_name": "HTMLView",
            "style": "IPY_MODEL_c388ab77ec264e8f9b4de3aced9d7342",
            "_dom_classes": [],
            "description": "",
            "_model_name": "HTMLModel",
            "placeholder": "​",
            "_view_module": "@jupyter-widgets/controls",
            "_model_module_version": "1.5.0",
            "value": " 169009152/? [00:20&lt;00:00, 32425560.02it/s]",
            "_view_count": null,
            "_view_module_version": "1.5.0",
            "description_tooltip": null,
            "_model_module": "@jupyter-widgets/controls",
            "layout": "IPY_MODEL_c69f2865537b41999830512b0ee23783"
          }
        },
        "835bc96bed0f4a0d8a337304f05d00c5": {
          "model_module": "@jupyter-widgets/controls",
          "model_name": "ProgressStyleModel",
          "state": {
            "_view_name": "StyleView",
            "_model_name": "ProgressStyleModel",
            "description_width": "initial",
            "_view_module": "@jupyter-widgets/base",
            "_model_module_version": "1.5.0",
            "_view_count": null,
            "_view_module_version": "1.2.0",
            "bar_color": null,
            "_model_module": "@jupyter-widgets/controls"
          }
        },
        "f58fea370ecf4f2899e88d634dafe949": {
          "model_module": "@jupyter-widgets/base",
          "model_name": "LayoutModel",
          "state": {
            "_view_name": "LayoutView",
            "grid_template_rows": null,
            "right": null,
            "justify_content": null,
            "_view_module": "@jupyter-widgets/base",
            "overflow": null,
            "_model_module_version": "1.2.0",
            "_view_count": null,
            "flex_flow": null,
            "width": null,
            "min_width": null,
            "border": null,
            "align_items": null,
            "bottom": null,
            "_model_module": "@jupyter-widgets/base",
            "top": null,
            "grid_column": null,
            "overflow_y": null,
            "overflow_x": null,
            "grid_auto_flow": null,
            "grid_area": null,
            "grid_template_columns": null,
            "flex": null,
            "_model_name": "LayoutModel",
            "justify_items": null,
            "grid_row": null,
            "max_height": null,
            "align_content": null,
            "visibility": null,
            "align_self": null,
            "height": null,
            "min_height": null,
            "padding": null,
            "grid_auto_rows": null,
            "grid_gap": null,
            "max_width": null,
            "order": null,
            "_view_module_version": "1.2.0",
            "grid_template_areas": null,
            "object_position": null,
            "object_fit": null,
            "grid_auto_columns": null,
            "margin": null,
            "display": null,
            "left": null
          }
        },
        "c388ab77ec264e8f9b4de3aced9d7342": {
          "model_module": "@jupyter-widgets/controls",
          "model_name": "DescriptionStyleModel",
          "state": {
            "_view_name": "StyleView",
            "_model_name": "DescriptionStyleModel",
            "description_width": "",
            "_view_module": "@jupyter-widgets/base",
            "_model_module_version": "1.5.0",
            "_view_count": null,
            "_view_module_version": "1.2.0",
            "_model_module": "@jupyter-widgets/controls"
          }
        },
        "c69f2865537b41999830512b0ee23783": {
          "model_module": "@jupyter-widgets/base",
          "model_name": "LayoutModel",
          "state": {
            "_view_name": "LayoutView",
            "grid_template_rows": null,
            "right": null,
            "justify_content": null,
            "_view_module": "@jupyter-widgets/base",
            "overflow": null,
            "_model_module_version": "1.2.0",
            "_view_count": null,
            "flex_flow": null,
            "width": null,
            "min_width": null,
            "border": null,
            "align_items": null,
            "bottom": null,
            "_model_module": "@jupyter-widgets/base",
            "top": null,
            "grid_column": null,
            "overflow_y": null,
            "overflow_x": null,
            "grid_auto_flow": null,
            "grid_area": null,
            "grid_template_columns": null,
            "flex": null,
            "_model_name": "LayoutModel",
            "justify_items": null,
            "grid_row": null,
            "max_height": null,
            "align_content": null,
            "visibility": null,
            "align_self": null,
            "height": null,
            "min_height": null,
            "padding": null,
            "grid_auto_rows": null,
            "grid_gap": null,
            "max_width": null,
            "order": null,
            "_view_module_version": "1.2.0",
            "grid_template_areas": null,
            "object_position": null,
            "object_fit": null,
            "grid_auto_columns": null,
            "margin": null,
            "display": null,
            "left": null
          }
        }
      }
    }
  },
  "cells": [
    {
      "cell_type": "markdown",
      "metadata": {
        "id": "Tqu-LOo-eeMK"
      },
      "source": [
        "You can check and explore further methods applied the tasks we have previously covered from the following link:\n",
        "https://rodrigob.github.io/are_we_there_yet/build/classification_datasets_results.html#43494641522d313030"
      ]
    },
    {
      "cell_type": "markdown",
      "metadata": {
        "id": "PEV16xT2eeMT"
      },
      "source": [
        "Skeleton code is provided from the following tutorial: https://pytorch.org/tutorials/beginner/blitz/cifar10_tutorial.html"
      ]
    },
    {
      "cell_type": "code",
      "metadata": {
        "id": "_T_q0S6heeMU"
      },
      "source": [
        "import torch\n",
        "import torchvision\n",
        "import torchvision.transforms as transforms"
      ],
      "execution_count": null,
      "outputs": []
    },
    {
      "cell_type": "markdown",
      "metadata": {
        "id": "iAkS9a-DeeMV"
      },
      "source": [
        "Dataset: https://pytorch.org/docs/stable/_modules/torchvision/datasets/cifar.html#CIFAR100"
      ]
    },
    {
      "cell_type": "code",
      "metadata": {
        "id": "Iy_rY63weeMV"
      },
      "source": [
        "\n",
        "def data_normalize(): # rename based on your choice\n",
        "    return transforms.Compose(\n",
        "    [transforms.ToTensor(),\n",
        "     transforms.Normalize((0.5, 0.5, 0.5), (0.5, 0.5, 0.5)),\n",
        "     transforms.RandomRotation(40)])\n"
      ],
      "execution_count": null,
      "outputs": []
    },
    {
      "cell_type": "code",
      "metadata": {
        "colab": {
          "base_uri": "https://localhost:8080/",
          "height": 99,
          "referenced_widgets": [
            "c61e027e63e9410a8910068fe4a4a6e5",
            "10728ef0aad04209b217ffefe6d6bc69",
            "892cd35238524de6a584aa50968afd36",
            "c25ff97a23a749288d7dd019ba5b1ea5",
            "835bc96bed0f4a0d8a337304f05d00c5",
            "f58fea370ecf4f2899e88d634dafe949",
            "c388ab77ec264e8f9b4de3aced9d7342",
            "c69f2865537b41999830512b0ee23783"
          ]
        },
        "id": "Lk55XbweeeMW",
        "outputId": "e7bcf96a-c09b-4e3b-f69f-5b69b2cab3d6"
      },
      "source": [
        "\n",
        "batch_size = 4\n",
        "\n",
        "\n",
        "trainset = torchvision.datasets.CIFAR100(root='./data/CIFAR100', train=True,\n",
        "                                        download=True, transform=data_normalize())\n",
        "\n",
        "trainloader = torch.utils.data.DataLoader(trainset, batch_size=batch_size,\n",
        "                                          shuffle=True, num_workers=2)\n",
        "\n",
        "testset = torchvision.datasets.CIFAR100(root='./data/CIFAR100', train=False,\n",
        "                                       download=True, transform=data_normalize())\n",
        "\n",
        "testloader = torch.utils.data.DataLoader(testset, batch_size=batch_size,\n",
        "                                         shuffle=False, num_workers=2)\n",
        "\n",
        "classes = ('apples', 'aquarium fish', 'baby', 'bear', 'beaver', 'bed', 'bee', 'beetle', 'bicycle', 'bottles', \n",
        "           'bowls', 'boy', 'bridge', 'bus', 'butterfly', 'camel', 'cans', 'castle', 'caterpillar', 'cattle', 'chair', \n",
        "           'chimpanzee', 'clock', 'cloud', 'cockroach', 'computer keyboard', 'couch', 'crab', 'crocodile', \n",
        "           'cups', 'dinosaur', 'dolphin', 'elephant', 'flatfish', 'forest', 'fox', 'girl', 'hamster', 'house', \n",
        "           'kangaroo', 'lamp', 'lawn-mower', 'leopard', 'lion', 'lizard', 'lobster', 'man', 'maple', 'motorcycle', \n",
        "           'mountain', 'mouse', 'mushrooms', 'oak', 'oranges', 'orchids', 'otter', 'palm', 'pears', 'pickup truck', \n",
        "           'pine', 'plain', 'plates', 'poppies', 'porcupine', 'possum', 'rabbit', 'raccoon', 'ray', 'road', 'rocket', \n",
        "           'roses', 'sea', 'seal', 'shark', 'shrew', 'skunk', 'skyscraper', 'snail', 'snake', 'spider', 'squirrel', \n",
        "           'streetcar', 'sunflowers', 'sweet peppers', 'table', 'tank', 'telephone', 'television', 'tiger', 'tractor',\n",
        "           'train', 'trout', 'tulips', 'turtle', 'wardrobe', 'whale', 'willow', 'wolf', 'woman', 'worm')"
      ],
      "execution_count": null,
      "outputs": [
        {
          "output_type": "stream",
          "text": [
            "Downloading https://www.cs.toronto.edu/~kriz/cifar-100-python.tar.gz to ./data/CIFAR100/cifar-100-python.tar.gz\n"
          ],
          "name": "stdout"
        },
        {
          "output_type": "display_data",
          "data": {
            "application/vnd.jupyter.widget-view+json": {
              "model_id": "c61e027e63e9410a8910068fe4a4a6e5",
              "version_minor": 0,
              "version_major": 2
            },
            "text/plain": [
              "HBox(children=(FloatProgress(value=1.0, bar_style='info', max=1.0), HTML(value='')))"
            ]
          },
          "metadata": {
            "tags": []
          }
        },
        {
          "output_type": "stream",
          "text": [
            "Extracting ./data/CIFAR100/cifar-100-python.tar.gz to ./data/CIFAR100\n",
            "Files already downloaded and verified\n"
          ],
          "name": "stdout"
        }
      ]
    },
    {
      "cell_type": "code",
      "metadata": {
        "id": "zzOQQthZeeMX"
      },
      "source": [
        "# let's visualize some examples\n",
        "import matplotlib.pyplot as plt\n",
        "import numpy as np"
      ],
      "execution_count": null,
      "outputs": []
    },
    {
      "cell_type": "code",
      "metadata": {
        "id": "3-Dif-CxeeMY"
      },
      "source": [
        "def imshow(img):\n",
        "    img = img / 2 + 0.5     # unnormalize\n",
        "    npimg = img.numpy()\n",
        "    plt.imshow(np.transpose(npimg, (1, 2, 0)))\n",
        "    plt.show()"
      ],
      "execution_count": null,
      "outputs": []
    },
    {
      "cell_type": "code",
      "metadata": {
        "colab": {
          "base_uri": "https://localhost:8080/",
          "height": 206
        },
        "id": "iDLsuSIzeeMY",
        "outputId": "edebdc72-7bf9-44fc-e1b4-4a0c765a8635"
      },
      "source": [
        "# get some random training images\n",
        "dataiter = iter(trainloader)\n",
        "images, labels = dataiter.next()\n",
        "\n",
        "print(images.shape)\n",
        "print(labels.shape)\n",
        "print(labels)\n",
        "# show images\n",
        "imshow(torchvision.utils.make_grid(images))\n",
        "# print labels\n",
        "print(' '.join('%5s' % classes[labels[j]] for j in range(batch_size)))"
      ],
      "execution_count": null,
      "outputs": [
        {
          "output_type": "stream",
          "text": [
            "torch.Size([4, 3, 32, 32])\n",
            "torch.Size([4])\n",
            "tensor([22, 54, 19, 72])\n"
          ],
          "name": "stdout"
        },
        {
          "output_type": "display_data",
          "data": {
            "image/png": "[encoded data removed]",
            "text/plain": [
              "<Figure size 432x288 with 1 Axes>"
            ]
          },
          "metadata": {
            "tags": [],
            "needs_background": "light"
          }
        },
        {
          "output_type": "stream",
          "text": [
            "clock orchids cattle  seal\n"
          ],
          "name": "stdout"
        }
      ]
    },
    {
      "cell_type": "code",
      "metadata": {
        "id": "iYkQynY7eeMZ"
      },
      "source": [
        "# base method we provide:\n",
        "import torch.nn as nn\n",
        "import torch.nn.functional as F\n",
        "\n",
        "\n",
        "class Net(nn.Module):\n",
        "    def __init__(self):\n",
        "        super(Net, self).__init__()\n",
        "        self.conv1 = nn.Conv2d(3, 16, 5)\n",
        "        self.pool = nn.MaxPool2d(2, 2)\n",
        "        self.conv2 = nn.Conv2d(16, 32, 5)\n",
        "        self.fc1 = nn.Linear(32 * 5 * 5, 200)\n",
        "        self.fc2 = nn.Linear(200, 128)\n",
        "        self.fc3 = nn.Linear(128, 100)\n",
        "\n",
        "    def forward(self, x):\n",
        "        x = self.pool(F.relu(self.conv1(x)))\n",
        "        x = self.pool(F.relu(self.conv2(x)))\n",
        "        x = x.view(-1, 32 * 5 * 5)\n",
        "        x = F.relu(self.fc1(x))\n",
        "        x = F.relu(self.fc2(x))\n",
        "        x = self.fc3(x)\n",
        "        return x"
      ],
      "execution_count": null,
      "outputs": []
    },
    {
      "cell_type": "code",
      "metadata": {
        "id": "YTBomQ6-eeMZ"
      },
      "source": [
        "\n",
        "class MyOwnNet(Net):\n",
        "    def __init__(self):\n",
        "        super(Net, self).__init__()\n",
        "        self.network = nn.Sequential(\n",
        "            nn.Conv2d(3,32,kernel_size=3,padding=1),\n",
        "            nn.ReLU(),\n",
        "            nn.Conv2d(32, 64, kernel_size=3, stride=1, padding=1),\n",
        "            nn.ReLU(),\n",
        "            nn.MaxPool2d(2,2),  #64x16x16\n",
        "\n",
        "            nn.Conv2d(64, 128, kernel_size=3, stride=1, padding=1),\n",
        "            nn.ReLU(),\n",
        "            nn.Conv2d(128,128, kernel_size=3, stride=1, padding=1),\n",
        "            nn.ReLU(),\n",
        "            nn.MaxPool2d(2,2),   #128x8x8\n",
        "\n",
        "            nn.Conv2d(128,256, kernel_size=3, stride=1, padding=1),\n",
        "            nn.ReLU(),\n",
        "            nn.Conv2d(256,256, kernel_size=3, stride=1, padding=1),\n",
        "            nn.ReLU(),      #256x4x4\n",
        "            nn.MaxPool2d(2, 2),\n",
        "\n",
        "            nn.Flatten(),\n",
        "            nn.Linear(256*4*4, 1024),\n",
        "            nn.ReLU(),\n",
        "            nn.Linear(1024,512),\n",
        "            nn.ReLU(),\n",
        "            nn.Linear(512, 100)\n",
        "        )\n",
        "    \n",
        "    def forward(self, x):\n",
        "        return self.network(x)"
      ],
      "execution_count": null,
      "outputs": []
    },
    {
      "cell_type": "code",
      "metadata": {
        "colab": {
          "base_uri": "https://localhost:8080/"
        },
        "id": "cJG5O-OqeeMZ",
        "outputId": "f021b20d-f9d7-4805-93c0-99aab92b0b7a"
      },
      "source": [
        "# if you want to train on GPU:\n",
        "device = torch.device(\"cuda:0\" if torch.cuda.is_available() else \"cpu\")\n",
        "\n",
        "print(device)"
      ],
      "execution_count": null,
      "outputs": [
        {
          "output_type": "stream",
          "text": [
            "cuda:0\n"
          ],
          "name": "stdout"
        }
      ]
    },
    {
      "cell_type": "code",
      "metadata": {
        "id": "76P0_FU1eeMa"
      },
      "source": [
        "# Do not forget to initialize your own network if you defined one!\n",
        "#inzvaNet = MyOwnNet()\n",
        "myownnet = MyOwnNet()\n",
        "\n",
        "myownnet.to(device)\n",
        "\n",
        "myownnet.train()\n",
        "# base optimizer with following parameters:\n",
        "import torch.optim as optim\n",
        "\n",
        "criterion = nn.CrossEntropyLoss()\n",
        "optimizer = optim.SGD(myownnet.parameters(), lr=0.001, momentum=0.9)\n",
        "\n"
      ],
      "execution_count": null,
      "outputs": []
    },
    {
      "cell_type": "code",
      "metadata": {
        "colab": {
          "base_uri": "https://localhost:8080/",
          "height": 1000
        },
        "id": "dCcHvzgdeeMa",
        "outputId": "9201b5bb-da86-4fb5-a287-a6b5581343f2"
      },
      "source": [
        "# Training loop\n",
        "for epoch in range(20):  # loop over the dataset multiple times\n",
        "\n",
        "    running_loss = 0.0\n",
        "    for i, data in enumerate(trainloader, 0):\n",
        "        # get the inputs; data is a list of [inputs, labels]\n",
        "        inputs, labels = data[0].to(device), data[1].to(device)\n",
        "\n",
        "        # zero the parameter gradients\n",
        "        optimizer.zero_grad()\n",
        "\n",
        "        # forward + backward + optimize\n",
        "        outputs = myownnet(inputs)\n",
        "        loss = criterion(outputs, labels)\n",
        "        loss.backward()\n",
        "        optimizer.step()\n",
        "        \n",
        "        # print statistics\n",
        "        running_loss += loss.item()\n",
        "        if i % 2000 == 1999:    # print every 2000 mini-batches\n",
        "            print('[%d, %5d] loss: %.3f' %\n",
        "                  (epoch + 1, i + 1, running_loss / 2000))\n",
        "            running_loss = 0.0\n",
        "\n",
        "print('Finished Training')"
      ],
      "execution_count": null,
      "outputs": [
        {
          "output_type": "stream",
          "text": [
            "[1,  2000] loss: 3.546\n",
            "[1,  4000] loss: 3.508\n",
            "[1,  6000] loss: 3.461\n",
            "[1,  8000] loss: 3.412\n",
            "[1, 10000] loss: 3.384\n",
            "[1, 12000] loss: 3.304\n",
            "[2,  2000] loss: 3.229\n",
            "[2,  4000] loss: 3.180\n",
            "[2,  6000] loss: 3.155\n",
            "[2,  8000] loss: 3.100\n",
            "[2, 10000] loss: 3.076\n",
            "[2, 12000] loss: 3.024\n",
            "[3,  2000] loss: 2.923\n",
            "[3,  4000] loss: 2.863\n",
            "[3,  6000] loss: 2.893\n",
            "[3,  8000] loss: 2.825\n",
            "[3, 10000] loss: 2.833\n",
            "[3, 12000] loss: 2.816\n",
            "[4,  2000] loss: 2.639\n",
            "[4,  4000] loss: 2.665\n",
            "[4,  6000] loss: 2.639\n",
            "[4,  8000] loss: 2.618\n",
            "[4, 10000] loss: 2.609\n",
            "[4, 12000] loss: 2.609\n",
            "[5,  2000] loss: 2.408\n",
            "[5,  4000] loss: 2.435\n",
            "[5,  6000] loss: 2.446\n",
            "[5,  8000] loss: 2.462\n",
            "[5, 10000] loss: 2.423\n",
            "[5, 12000] loss: 2.392\n",
            "[6,  2000] loss: 2.216\n",
            "[6,  4000] loss: 2.253\n",
            "[6,  6000] loss: 2.253\n",
            "[6,  8000] loss: 2.239\n",
            "[6, 10000] loss: 2.251\n",
            "[6, 12000] loss: 2.231\n",
            "[7,  2000] loss: 2.022\n",
            "[7,  4000] loss: 2.096\n",
            "[7,  6000] loss: 2.074\n",
            "[7,  8000] loss: 2.090\n",
            "[7, 10000] loss: 2.095\n",
            "[7, 12000] loss: 2.102\n",
            "[8,  2000] loss: 1.875\n",
            "[8,  4000] loss: 1.940\n",
            "[8,  6000] loss: 1.940\n",
            "[8,  8000] loss: 1.942\n",
            "[8, 10000] loss: 1.950\n",
            "[8, 12000] loss: 1.937\n",
            "[9,  2000] loss: 1.731\n",
            "[9,  4000] loss: 1.765\n",
            "[9,  6000] loss: 1.769\n",
            "[9,  8000] loss: 1.831\n",
            "[9, 10000] loss: 1.829\n",
            "[9, 12000] loss: 1.793\n",
            "[10,  2000] loss: 1.571\n",
            "[10,  4000] loss: 1.600\n",
            "[10,  6000] loss: 1.663\n",
            "[10,  8000] loss: 1.654\n",
            "[10, 10000] loss: 1.732\n",
            "[10, 12000] loss: 1.752\n",
            "[11,  2000] loss: 1.438\n",
            "[11,  4000] loss: 1.519\n",
            "[11,  6000] loss: 1.528\n",
            "[11,  8000] loss: 1.579\n",
            "[11, 10000] loss: 1.563\n",
            "[11, 12000] loss: 1.644\n",
            "[12,  2000] loss: 1.338\n"
          ],
          "name": "stdout"
        },
        {
          "output_type": "error",
          "ename": "KeyboardInterrupt",
          "evalue": "ignored",
          "traceback": [
            "\u001b[0;31m---------------------------------------------------------------------------\u001b[0m",
            "\u001b[0;31mKeyboardInterrupt\u001b[0m                         Traceback (most recent call last)",
            "\u001b[0;32m<ipython-input-17-608cff299c03>\u001b[0m in \u001b[0;36m<module>\u001b[0;34m()\u001b[0m\n\u001b[1;32m     13\u001b[0m         \u001b[0moutputs\u001b[0m \u001b[0;34m=\u001b[0m \u001b[0mmyownnet\u001b[0m\u001b[0;34m(\u001b[0m\u001b[0minputs\u001b[0m\u001b[0;34m)\u001b[0m\u001b[0;34m\u001b[0m\u001b[0;34m\u001b[0m\u001b[0m\n\u001b[1;32m     14\u001b[0m         \u001b[0mloss\u001b[0m \u001b[0;34m=\u001b[0m \u001b[0mcriterion\u001b[0m\u001b[0;34m(\u001b[0m\u001b[0moutputs\u001b[0m\u001b[0;34m,\u001b[0m \u001b[0mlabels\u001b[0m\u001b[0;34m)\u001b[0m\u001b[0;34m\u001b[0m\u001b[0;34m\u001b[0m\u001b[0m\n\u001b[0;32m---> 15\u001b[0;31m         \u001b[0mloss\u001b[0m\u001b[0;34m.\u001b[0m\u001b[0mbackward\u001b[0m\u001b[0;34m(\u001b[0m\u001b[0;34m)\u001b[0m\u001b[0;34m\u001b[0m\u001b[0;34m\u001b[0m\u001b[0m\n\u001b[0m\u001b[1;32m     16\u001b[0m         \u001b[0moptimizer\u001b[0m\u001b[0;34m.\u001b[0m\u001b[0mstep\u001b[0m\u001b[0;34m(\u001b[0m\u001b[0;34m)\u001b[0m\u001b[0;34m\u001b[0m\u001b[0;34m\u001b[0m\u001b[0m\n\u001b[1;32m     17\u001b[0m \u001b[0;34m\u001b[0m\u001b[0m\n",
            "\u001b[0;32m/usr/local/lib/python3.6/dist-packages/torch/tensor.py\u001b[0m in \u001b[0;36mbackward\u001b[0;34m(self, gradient, retain_graph, create_graph)\u001b[0m\n\u001b[1;32m    219\u001b[0m                 \u001b[0mretain_graph\u001b[0m\u001b[0;34m=\u001b[0m\u001b[0mretain_graph\u001b[0m\u001b[0;34m,\u001b[0m\u001b[0;34m\u001b[0m\u001b[0;34m\u001b[0m\u001b[0m\n\u001b[1;32m    220\u001b[0m                 create_graph=create_graph)\n\u001b[0;32m--> 221\u001b[0;31m         \u001b[0mtorch\u001b[0m\u001b[0;34m.\u001b[0m\u001b[0mautograd\u001b[0m\u001b[0;34m.\u001b[0m\u001b[0mbackward\u001b[0m\u001b[0;34m(\u001b[0m\u001b[0mself\u001b[0m\u001b[0;34m,\u001b[0m \u001b[0mgradient\u001b[0m\u001b[0;34m,\u001b[0m \u001b[0mretain_graph\u001b[0m\u001b[0;34m,\u001b[0m \u001b[0mcreate_graph\u001b[0m\u001b[0;34m)\u001b[0m\u001b[0;34m\u001b[0m\u001b[0;34m\u001b[0m\u001b[0m\n\u001b[0m\u001b[1;32m    222\u001b[0m \u001b[0;34m\u001b[0m\u001b[0m\n\u001b[1;32m    223\u001b[0m     \u001b[0;32mdef\u001b[0m \u001b[0mregister_hook\u001b[0m\u001b[0;34m(\u001b[0m\u001b[0mself\u001b[0m\u001b[0;34m,\u001b[0m \u001b[0mhook\u001b[0m\u001b[0;34m)\u001b[0m\u001b[0;34m:\u001b[0m\u001b[0;34m\u001b[0m\u001b[0;34m\u001b[0m\u001b[0m\n",
            "\u001b[0;32m/usr/local/lib/python3.6/dist-packages/torch/autograd/__init__.py\u001b[0m in \u001b[0;36mbackward\u001b[0;34m(tensors, grad_tensors, retain_graph, create_graph, grad_variables)\u001b[0m\n\u001b[1;32m    130\u001b[0m     Variable._execution_engine.run_backward(\n\u001b[1;32m    131\u001b[0m         \u001b[0mtensors\u001b[0m\u001b[0;34m,\u001b[0m \u001b[0mgrad_tensors_\u001b[0m\u001b[0;34m,\u001b[0m \u001b[0mretain_graph\u001b[0m\u001b[0;34m,\u001b[0m \u001b[0mcreate_graph\u001b[0m\u001b[0;34m,\u001b[0m\u001b[0;34m\u001b[0m\u001b[0;34m\u001b[0m\u001b[0m\n\u001b[0;32m--> 132\u001b[0;31m         allow_unreachable=True)  # allow_unreachable flag\n\u001b[0m\u001b[1;32m    133\u001b[0m \u001b[0;34m\u001b[0m\u001b[0m\n\u001b[1;32m    134\u001b[0m \u001b[0;34m\u001b[0m\u001b[0m\n",
            "\u001b[0;31mKeyboardInterrupt\u001b[0m: "
          ]
        }
      ]
    },
    {
      "cell_type": "code",
      "metadata": {
        "colab": {
          "base_uri": "https://localhost:8080/",
          "height": 172
        },
        "id": "4AI_O0-UeeMa",
        "outputId": "252b6da3-348f-42c8-dfd6-c19519a3727f"
      },
      "source": [
        "dataiter = iter(testloader)\n",
        "images, labels = dataiter.next()\n",
        "\n",
        "images = images.cuda()\n",
        "labels = labels.cuda()\n",
        "\n",
        "outputs = myownnet(images)\n",
        "_, predicted = torch.max(outputs.data, 1)\n",
        "# print images\n",
        "imshow(torchvision.utils.make_grid(images.cpu()))\n",
        "print('GroundTruth: ', ' '.join('%5s' % classes[labels[j]] for j in range(batch_size)))\n",
        "print('Predicted: ', ' '.join('%5s' % classes[predicted[j]]for j in range(batch_size)))"
      ],
      "execution_count": null,
      "outputs": [
        {
          "output_type": "display_data",
          "data": {
            "image/png": "[encoded data removed]",
            "text/plain": [
              "<Figure size 432x288 with 1 Axes>"
            ]
          },
          "metadata": {
            "tags": [],
            "needs_background": "light"
          }
        },
        {
          "output_type": "stream",
          "text": [
            "GroundTruth:  mountain flatfish  seal mushrooms\n",
            "Predicted:  bridge rabbit  crab trout\n"
          ],
          "name": "stdout"
        }
      ]
    },
    {
      "cell_type": "code",
      "metadata": {
        "colab": {
          "base_uri": "https://localhost:8080/"
        },
        "id": "dj8VpzipeeMb",
        "outputId": "a38227f1-48df-4150-fd8c-3dceb61dd6ac"
      },
      "source": [
        "# test on all test data\n",
        "myownnet.eval()\n",
        "correct = 0\n",
        "total = 0\n",
        "with torch.no_grad():\n",
        "    for data in testloader:\n",
        "        images, labels = data\n",
        "        images = images.cuda()\n",
        "        labels = labels.cuda()\n",
        "        outputs = myownnet(images.cuda())\n",
        "        _, predicted = torch.max(outputs.data, 1)\n",
        "        total += labels.size(0)\n",
        "        correct += (predicted == labels).sum().item()\n",
        "\n",
        "print(correct)\n",
        "print(total)\n",
        "print('Accuracy of the network on the 10000 test images: %d %%' % (100 * correct / total))"
      ],
      "execution_count": null,
      "outputs": [
        {
          "output_type": "stream",
          "text": [
            "4214\n",
            "10000\n",
            "Accuracy of the network on the 10000 test images: 42 %\n"
          ],
          "name": "stdout"
        }
      ]
    },
    {
      "cell_type": "code",
      "metadata": {
        "colab": {
          "base_uri": "https://localhost:8080/"
        },
        "id": "xPxLw1yAeeMc",
        "outputId": "28a1f6ba-e79b-4f00-aa73-853eb4daeeaa"
      },
      "source": [
        "# class-wise accuracy\n",
        "class_correct = list(0. for i in range(100))\n",
        "class_total = list(0. for i in range(100))\n",
        "with torch.no_grad():\n",
        "    for data in testloader:\n",
        "        images, labels = data\n",
        "        images = images.cuda()\n",
        "        labels = labels.cuda()\n",
        "        outputs = myownnet(images)\n",
        "        _, predicted = torch.max(outputs, 1)\n",
        "        c = (predicted == labels).squeeze()\n",
        "        for i in range(batch_size):\n",
        "            label = labels[i]\n",
        "            class_correct[label] += c[i].item()\n",
        "            class_total[label] += 1\n",
        "\n",
        "for i in range(100):\n",
        "    print('Accuracy of %5s : %2d %%' % (\n",
        "        classes[i], 100 * class_correct[i] / class_total[i]))"
      ],
      "execution_count": null,
      "outputs": [
        {
          "output_type": "stream",
          "text": [
            "Accuracy of apples : 67 %\n",
            "Accuracy of aquarium fish : 57 %\n",
            "Accuracy of  baby : 39 %\n",
            "Accuracy of  bear : 19 %\n",
            "Accuracy of beaver : 34 %\n",
            "Accuracy of   bed : 16 %\n",
            "Accuracy of   bee : 32 %\n",
            "Accuracy of beetle : 52 %\n",
            "Accuracy of bicycle : 40 %\n",
            "Accuracy of bottles : 37 %\n",
            "Accuracy of bowls : 21 %\n",
            "Accuracy of   boy : 15 %\n",
            "Accuracy of bridge : 39 %\n",
            "Accuracy of   bus : 42 %\n",
            "Accuracy of butterfly : 11 %\n",
            "Accuracy of camel : 35 %\n",
            "Accuracy of  cans : 32 %\n",
            "Accuracy of castle : 78 %\n",
            "Accuracy of caterpillar : 42 %\n",
            "Accuracy of cattle : 24 %\n",
            "Accuracy of chair : 77 %\n",
            "Accuracy of chimpanzee : 58 %\n",
            "Accuracy of clock : 39 %\n",
            "Accuracy of cloud : 65 %\n",
            "Accuracy of cockroach : 62 %\n",
            "Accuracy of computer keyboard : 32 %\n",
            "Accuracy of couch : 31 %\n",
            "Accuracy of  crab : 34 %\n",
            "Accuracy of crocodile : 50 %\n",
            "Accuracy of  cups : 35 %\n",
            "Accuracy of dinosaur : 44 %\n",
            "Accuracy of dolphin : 55 %\n",
            "Accuracy of elephant : 35 %\n",
            "Accuracy of flatfish : 34 %\n",
            "Accuracy of forest : 45 %\n",
            "Accuracy of   fox : 21 %\n",
            "Accuracy of  girl : 51 %\n",
            "Accuracy of hamster : 27 %\n",
            "Accuracy of house : 32 %\n",
            "Accuracy of kangaroo : 64 %\n",
            "Accuracy of  lamp : 39 %\n",
            "Accuracy of lawn-mower : 60 %\n",
            "Accuracy of leopard : 37 %\n",
            "Accuracy of  lion : 45 %\n",
            "Accuracy of lizard : 28 %\n",
            "Accuracy of lobster : 28 %\n",
            "Accuracy of   man : 25 %\n",
            "Accuracy of maple : 60 %\n",
            "Accuracy of motorcycle : 43 %\n",
            "Accuracy of mountain : 43 %\n",
            "Accuracy of mouse : 22 %\n",
            "Accuracy of mushrooms : 42 %\n",
            "Accuracy of   oak : 40 %\n",
            "Accuracy of oranges : 65 %\n",
            "Accuracy of orchids : 76 %\n",
            "Accuracy of otter :  9 %\n",
            "Accuracy of  palm : 52 %\n",
            "Accuracy of pears : 51 %\n",
            "Accuracy of pickup truck : 35 %\n",
            "Accuracy of  pine : 39 %\n",
            "Accuracy of plain : 79 %\n",
            "Accuracy of plates : 49 %\n",
            "Accuracy of poppies : 47 %\n",
            "Accuracy of porcupine : 33 %\n",
            "Accuracy of possum : 28 %\n",
            "Accuracy of rabbit : 27 %\n",
            "Accuracy of raccoon : 41 %\n",
            "Accuracy of   ray : 43 %\n",
            "Accuracy of  road : 77 %\n",
            "Accuracy of rocket : 72 %\n",
            "Accuracy of roses : 63 %\n",
            "Accuracy of   sea : 44 %\n",
            "Accuracy of  seal : 15 %\n",
            "Accuracy of shark : 36 %\n",
            "Accuracy of shrew : 20 %\n",
            "Accuracy of skunk : 69 %\n",
            "Accuracy of skyscraper : 75 %\n",
            "Accuracy of snail : 30 %\n",
            "Accuracy of snake : 34 %\n",
            "Accuracy of spider : 34 %\n",
            "Accuracy of squirrel : 19 %\n",
            "Accuracy of streetcar : 29 %\n",
            "Accuracy of sunflowers : 75 %\n",
            "Accuracy of sweet peppers : 19 %\n",
            "Accuracy of table : 31 %\n",
            "Accuracy of  tank : 55 %\n",
            "Accuracy of telephone : 49 %\n",
            "Accuracy of television : 50 %\n",
            "Accuracy of tiger : 49 %\n",
            "Accuracy of tractor : 49 %\n",
            "Accuracy of train : 47 %\n",
            "Accuracy of trout : 63 %\n",
            "Accuracy of tulips : 19 %\n",
            "Accuracy of turtle : 17 %\n",
            "Accuracy of wardrobe : 53 %\n",
            "Accuracy of whale : 45 %\n",
            "Accuracy of willow : 37 %\n",
            "Accuracy of  wolf : 41 %\n",
            "Accuracy of woman : 32 %\n",
            "Accuracy of  worm : 35 %\n"
          ],
          "name": "stdout"
        }
      ]
    }
  ]
}
